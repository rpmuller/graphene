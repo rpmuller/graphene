{
 "cells": [
  {
   "cell_type": "markdown",
   "metadata": {},
   "source": [
    "# Investigating Graphene\n",
    "Nothing profound here, just playing around with routines to calculate 2D materials, and thought that graphene would be a good place to start.\n",
    "\n",
    "Todo:\n",
    "* Computer graphics have the y axis pointing down, which is the opposite of what most molecular graphics use. Figure out a pythonic way to do this transformation\n",
    "* Recompute the bounding box and shift so that all objects are visible even if they go negative."
   ]
  },
  {
   "cell_type": "code",
   "execution_count": 142,
   "metadata": {},
   "outputs": [],
   "source": [
    "import math\n",
    "import numpy as np\n",
    "\n",
    "class Lattice2D:\n",
    "    def __init__(self,A,B,alpha=90,scalef=100):\n",
    "        deg = math.pi/180\n",
    "        alpha = alpha*deg\n",
    "\n",
    "        self.Avec = np.array((A,0))\n",
    "        self.Bvec = np.array((B*math.cos(alpha),B*math.sin(alpha)))\n",
    "\n",
    "        self.atoms = []\n",
    "        self.scalef = scalef\n",
    "        return\n",
    "    \n",
    "    def add_atom(self,symbol,x,y):\n",
    "        # Note, coordinates are in lattice coords\n",
    "        self.atoms.append((symbol,x,y))\n",
    "        return\n",
    "    \n",
    "    def _repr_svg_(self): return self.to_svg()\n",
    "    \n",
    "    def to_svg(self):\n",
    "        A = self.Avec\n",
    "        B = self.Bvec\n",
    "        \n",
    "        O = np.array((0,0))\n",
    "\n",
    "        svg = svg_plotter(\n",
    "            lines = [(O,O+A),\n",
    "                     (O,O+B),\n",
    "                     (O+A,O+A+B),\n",
    "                     (O+B,O+A+B)],\n",
    "            circles = [(x*A+y*B,0.1) for sym,x,y in self.atoms]\n",
    "        )\n",
    "        #print(svg)\n",
    "        return svg\n",
    "\n",
    "class HexLattice(Lattice2D):\n",
    "    def __init__(self,A,scalef=100):\n",
    "        Lattice2D.__init__(self,A,A,60,scalef)"
   ]
  },
  {
   "cell_type": "code",
   "execution_count": 143,
   "metadata": {},
   "outputs": [],
   "source": [
    "def svg_plotter(lines,circles,scalef=100):\n",
    "    from svgscene import Scene\n",
    "    scene = Scene()\n",
    "    xmin,xmax,ymin,ymax = bbox(lines,circles)\n",
    "    origin = np.array([xmin,ymin])\n",
    "    def xfrm(pt):\n",
    "        x,y = pt\n",
    "        x = scalef*(x-xmin)\n",
    "        y = scalef*(ymax-y+ymin+0.1)\n",
    "        return x,y\n",
    "    for start,end in lines:\n",
    "        scene.line(xfrm(start),xfrm(end))\n",
    "    for center,radius in circles:\n",
    "        scene.circle(xfrm(center),scalef*radius)\n",
    "    return scene.to_svg()\n",
    "\n",
    "def bbox(lines,circles,buffer=0.75,BIG=1000000):\n",
    "    xmin=ymin=BIG\n",
    "    xmax=ymax=-BIG\n",
    "    for start,end in lines:\n",
    "        xmin = min(xmin,start[0],end[0])\n",
    "        xmax = max(xmax,start[0],end[0])\n",
    "        ymin = min(ymin,start[1],end[1])\n",
    "        ymax = max(ymax,start[1],end[1])\n",
    "    for center,radius in circles:\n",
    "        xmin = min(xmin,center[0]-radius)\n",
    "        xmax = max(xmax,center[0]+radius)\n",
    "        ymin = min(ymin,center[1]-radius)\n",
    "        ymax = max(ymax,center[1]+radius)\n",
    "        \n",
    "    return xmin-buffer,xmax+buffer,ymin-buffer,ymax+buffer\n"
   ]
  },
  {
   "cell_type": "code",
   "execution_count": 144,
   "metadata": {},
   "outputs": [
    {
     "data": {
      "image/svg+xml": [
       "<svg height=\"120.0\" version=\"1.1\" width=\"185.0\" xmlns=\"http://www.w3.org/2000/svg\"><g style=\"fill-opacity:1.0; stroke:black; stroke-width:1;\"><line x1=\"75.0\" x2=\"175.0\" y1=\"110.0\" y2=\"110.0\" /><line x1=\"75.0\" x2=\"75.0\" y1=\"110.0\" y2=\"10.0\" /><line x1=\"175.0\" x2=\"175.0\" y1=\"110.0\" y2=\"10.0\" /><line x1=\"75.0\" x2=\"175.0\" y1=\"10.0\" y2=\"10.0\" /></g></svg>"
      ],
      "text/plain": [
       "<__main__.Lattice2D at 0x104897f98>"
      ]
     },
     "execution_count": 144,
     "metadata": {},
     "output_type": "execute_result"
    }
   ],
   "source": [
    "Lattice2D(1,1)"
   ]
  },
  {
   "cell_type": "code",
   "execution_count": 145,
   "metadata": {},
   "outputs": [
    {
     "data": {
      "image/svg+xml": [
       "<svg height=\"149.903810568\" version=\"1.1\" width=\"320.0\" xmlns=\"http://www.w3.org/2000/svg\"><g style=\"fill-opacity:1.0; stroke:black; stroke-width:1;\"><line x1=\"85.0\" x2=\"235.0\" y1=\"129.903810568\" y2=\"129.903810568\" /><line x1=\"85.0\" x2=\"160.0\" y1=\"129.903810568\" y2=\"2.77555756156e-15\" /><line x1=\"235.0\" x2=\"310.0\" y1=\"129.903810568\" y2=\"2.77555756156e-15\" /><line x1=\"160.0\" x2=\"310.0\" y1=\"2.77555756156e-15\" y2=\"2.77555756156e-15\" /><circle cx=\"85.0\" cy=\"129.903810568\" r=\"10.0\" style=\"fill:blue;stroke=black\" /><circle cx=\"197.5\" cy=\"64.9519052838\" r=\"10.0\" style=\"fill:blue;stroke=black\" /></g></svg>"
      ],
      "text/plain": [
       "<__main__.HexLattice at 0x1048892b0>"
      ]
     },
     "execution_count": 145,
     "metadata": {},
     "output_type": "execute_result"
    }
   ],
   "source": [
    "A = 1.5\n",
    "graphene = HexLattice(A)\n",
    "graphene.add_atom('C',0,0)\n",
    "graphene.add_atom('C',A/3,A/3)\n",
    "graphene"
   ]
  },
  {
   "cell_type": "markdown",
   "metadata": {},
   "source": [
    "Okay, this now works with Py3. Added encoding=\"unicode\" to the ET.tostring() call. Have to think of a pythonic way to transform from graphical coordinates (y points down) to the normal way we draw structures."
   ]
  },
  {
   "cell_type": "code",
   "execution_count": null,
   "metadata": {},
   "outputs": [],
   "source": []
  }
 ],
 "metadata": {
  "kernelspec": {
   "display_name": "Python 3",
   "language": "python",
   "name": "python3"
  },
  "language_info": {
   "codemirror_mode": {
    "name": "ipython",
    "version": 3
   },
   "file_extension": ".py",
   "mimetype": "text/x-python",
   "name": "python",
   "nbconvert_exporter": "python",
   "pygments_lexer": "ipython3",
   "version": "3.6.3"
  }
 },
 "nbformat": 4,
 "nbformat_minor": 2
}
