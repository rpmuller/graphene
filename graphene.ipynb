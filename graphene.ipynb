{
 "cells": [
  {
   "cell_type": "markdown",
   "metadata": {},
   "source": [
    "# Investigating Graphene\n",
    "Nothing profound here, just playing around with routines to calculate 2D materials, and thought that graphene would be a good place to start.\n",
    "\n",
    "Todo:\n",
    "* Computer graphics have the y axis pointing down, which is the opposite of what most molecular graphics use. Figure out a pythonic way to do this transformation\n",
    "* Recompute the bounding box and shift so that all objects are visible even if they go negative."
   ]
  },
  {
   "cell_type": "code",
   "execution_count": 17,
   "metadata": {},
   "outputs": [],
   "source": [
    "import math\n",
    "\n",
    "class Lattice2D:\n",
    "    def __init__(self,A,B,alpha=90,scalef=100):\n",
    "        self.A = A\n",
    "        self.B = B\n",
    "        self.alpha = alpha\n",
    "        self.atoms = []\n",
    "        self.scalef = scalef\n",
    "        return\n",
    "    \n",
    "    def add_atom(self,symbol,x,y):\n",
    "        # Note, coordinates are in lattice coords\n",
    "        self.atoms.append((symbol,x,y))\n",
    "        return\n",
    "    \n",
    "    def _repr_svg_(self): return self.to_svg()\n",
    "    \n",
    "    def to_svg(self):\n",
    "        from svgscene import Scene\n",
    "        deg = math.pi/180\n",
    "        alpha = self.alpha*deg\n",
    "        A = self.scalef*self.A\n",
    "        B = self.scalef*self.B\n",
    "        self.scene = Scene()\n",
    "        self.scene.line((0,0),(A,0))\n",
    "        self.scene.line((0,0),(B*math.cos(alpha),B*math.sin(alpha)))\n",
    "        for atom in self.atoms:\n",
    "            rad = self.scalef*0.5\n",
    "            self.scene.circle((atom[1],atom[2]),rad)\n",
    "        return self.scene.to_svg()\n",
    "\n",
    "class HexLattice(Lattice2D):\n",
    "    def __init__(self,A,scalef=100):\n",
    "        Lattice2D.__init__(self,A,A,60,scalef)"
   ]
  },
  {
   "cell_type": "code",
   "execution_count": 14,
   "metadata": {},
   "outputs": [
    {
     "data": {
      "image/svg+xml": [
       "<svg height=\"110.0\" version=\"1.1\" width=\"110\" xmlns=\"http://www.w3.org/2000/svg\"><g style=\"fill-opacity:1.0; stroke:black; stroke-width:1;\"><line x1=\"0\" x2=\"100\" y1=\"0\" y2=\"0\" /><line x1=\"0\" x2=\"6.123233995736766e-15\" y1=\"0\" y2=\"100.0\" /></g></svg>"
      ],
      "text/plain": [
       "<__main__.Lattice2D at 0x1036e3b00>"
      ]
     },
     "execution_count": 14,
     "metadata": {},
     "output_type": "execute_result"
    }
   ],
   "source": [
    "Lattice2D(1,1)"
   ]
  },
  {
   "cell_type": "code",
   "execution_count": 18,
   "metadata": {},
   "outputs": [
    {
     "data": {
      "image/svg+xml": [
       "<svg height=\"139.9038105676658\" version=\"1.1\" width=\"160.0\" xmlns=\"http://www.w3.org/2000/svg\"><g style=\"fill-opacity:1.0; stroke:black; stroke-width:1;\"><line x1=\"0\" x2=\"150.0\" y1=\"0\" y2=\"0\" /><line x1=\"0\" x2=\"75.00000000000001\" y1=\"0\" y2=\"129.9038105676658\" /><circle cx=\"0\" cy=\"0\" r=\"50.0\" style=\"fill:blue;stroke=black\" /></g></svg>"
      ],
      "text/plain": [
       "<__main__.HexLattice at 0x103770898>"
      ]
     },
     "execution_count": 18,
     "metadata": {},
     "output_type": "execute_result"
    }
   ],
   "source": [
    "graphene = HexLattice(1.5)\n",
    "graphene.add_atom('C',0,0)\n",
    "graphene"
   ]
  },
  {
   "cell_type": "markdown",
   "metadata": {},
   "source": [
    "Okay, this now works with Py3. Added encoding=\"unicode\" to the ET.tostring() call. Have to think of a pythonic way to transform from graphical coordinates (y points down) to the normal way we draw structures."
   ]
  }
 ],
 "metadata": {
  "kernelspec": {
   "display_name": "Python 3",
   "language": "python",
   "name": "python3"
  },
  "language_info": {
   "codemirror_mode": {
    "name": "ipython",
    "version": 3
   },
   "file_extension": ".py",
   "mimetype": "text/x-python",
   "name": "python",
   "nbconvert_exporter": "python",
   "pygments_lexer": "ipython3",
   "version": "3.6.3"
  }
 },
 "nbformat": 4,
 "nbformat_minor": 2
}
