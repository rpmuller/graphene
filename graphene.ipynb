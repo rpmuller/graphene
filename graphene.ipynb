{
 "cells": [
  {
   "cell_type": "markdown",
   "metadata": {},
   "source": [
    "# Investigating Graphene\n",
    "Nothing profound here, just playing around with routines to calculate 2D materials, and thought that graphene would be a good place to start."
   ]
  },
  {
   "cell_type": "code",
   "execution_count": 7,
   "metadata": {},
   "outputs": [],
   "source": [
    "import math\n",
    "\n",
    "class Lattice2D:\n",
    "    def __init__(self,A,B,alpha=90,scalef=100):\n",
    "        self.A = A\n",
    "        self.B = B\n",
    "        self.alpha = alpha\n",
    "        self.atoms = []\n",
    "        self.scalef = scalef\n",
    "        return\n",
    "    \n",
    "    def _repr_svg_(self): return self.to_svg()\n",
    "    \n",
    "    def to_svg(self):\n",
    "        from svgscene import Scene\n",
    "        deg = math.pi/180\n",
    "        alpha = self.alpha*deg\n",
    "        A = self.scalef*self.A\n",
    "        B = self.scalef*self.B\n",
    "        self.scene = Scene()\n",
    "        self.scene.line((0,0),(A,0))\n",
    "        self.scene.line((0,0),(B*math.cos(alpha),B*math.sin(alpha)))\n",
    "        return self.scene.to_svg()"
   ]
  },
  {
   "cell_type": "code",
   "execution_count": 8,
   "metadata": {},
   "outputs": [
    {
     "name": "stderr",
     "output_type": "stream",
     "text": [
      "/Users/rmuller/miniconda2/envs/jlab/lib/python3.6/site-packages/IPython/core/formatters.py:362: FormatterWarning: image/svg+xml formatter returned invalid type <class 'bytes'> (expected <class 'str'>) for object: <__main__.Lattice2D object at 0x1027813c8>\n",
      "  FormatterWarning\n"
     ]
    },
    {
     "data": {
      "text/plain": [
       "<__main__.Lattice2D at 0x1027813c8>"
      ]
     },
     "execution_count": 8,
     "metadata": {},
     "output_type": "execute_result"
    }
   ],
   "source": [
    "Lattice2D(1,1)"
   ]
  },
  {
   "cell_type": "markdown",
   "metadata": {},
   "source": [
    "Argh! Have to figure out how to make this work for Py3!"
   ]
  },
  {
   "cell_type": "code",
   "execution_count": null,
   "metadata": {},
   "outputs": [],
   "source": []
  }
 ],
 "metadata": {
  "kernelspec": {
   "display_name": "Python 3",
   "language": "python",
   "name": "python3"
  },
  "language_info": {
   "codemirror_mode": {
    "name": "ipython",
    "version": 3
   },
   "file_extension": ".py",
   "mimetype": "text/x-python",
   "name": "python",
   "nbconvert_exporter": "python",
   "pygments_lexer": "ipython3",
   "version": "3.6.3"
  }
 },
 "nbformat": 4,
 "nbformat_minor": 2
}
